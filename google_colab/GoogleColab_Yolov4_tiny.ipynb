{
  "cells": [
    {
      "cell_type": "code",
      "source": [
        "# Check if NVIDIA GPU is enabled\n",
        "!nvidia-smi"
      ],
      "metadata": {
        "id": "4IA90JLypkjL"
      },
      "execution_count": null,
      "outputs": []
    },
    {
      "cell_type": "code",
      "source": [
        "from google.colab import drive\n",
        "drive.mount('/content/gdrive')\n",
        "!ln -s /content/gdrive/My\\ Drive/ /mydrive\n",
        "!ls /mydrive"
      ],
      "metadata": {
        "id": "1s3URZoQpf8x"
      },
      "execution_count": null,
      "outputs": []
    },
    {
      "cell_type": "code",
      "source": [
        "# Clone\n",
        "!git clone https://github.com/AlexeyAB/darknet"
      ],
      "metadata": {
        "id": "OJ-BI6-zpduS"
      },
      "execution_count": null,
      "outputs": []
    },
    {
      "cell_type": "code",
      "source": [
        "# Configure\n",
        "%cd darknet\n",
        "!sed -i 's/OPENCV=0/OPENCV=1/' Makefile\n",
        "!sed -i 's/GPU=0/GPU=1/' Makefile\n",
        "!sed -i 's/CUDNN=0/CUDNN=1/' Makefile\n",
        "!sed -i 's/CUDNN_HALF=0/CUDNN_HALF=1/' Makefile\n",
        "!sed -i 's/LIBSO=0/LIBSO=1/' Makefile"
      ],
      "metadata": {
        "id": "5eD6AXX8pbel"
      },
      "execution_count": null,
      "outputs": []
    },
    {
      "cell_type": "code",
      "source": [
        "# Compile\n",
        "!make"
      ],
      "metadata": {
        "id": "_z2O_ERQpZGt"
      },
      "execution_count": null,
      "outputs": []
    },
    {
      "cell_type": "code",
      "source": [
        "# Make a copy of yolov4.cfg\n",
        "!cp cfg/yolov4-tiny-custom.cfg cfg/yolov4_tiny_training.cfg"
      ],
      "metadata": {
        "id": "D3CYD8L7j-AI"
      },
      "execution_count": null,
      "outputs": []
    },
    {
      "cell_type": "code",
      "source": [
        "# Change lines in yolov4.cfg file\n",
        "!sed -i 's/batch=1/batch=64/' cfg/yolov4_training.cfg\n",
        "!sed -i 's/subdivisions=1/subdivisions=32/' cfg/yolov4_training.cfg\n",
        "!sed -i 's/width=608/width=416/' cfg/yolov4_training.cfg\n",
        "!sed -i 's/height=608/height=416/' cfg/yolov4_training.cfg\n",
        "!sed -i 's/max_batches = 500200/max_batches = 4000/' cfg/yolov4_training.cfg\n",
        "!sed -i 's/steps=400000,450000/steps=3200,3600/' cfg/yolov4_training.cfg\n",
        "!sed -i '220 s@classes=80@classes=1@' cfg/yolov4_training.cfg\n",
        "!sed -i '269 s@classes=80@classes=1@' cfg/yolov4_training.cfg\n",
        "!sed -i '212 s@filters=255@filters=18@' cfg/yolov4_training.cfg\n",
        "!sed -i '263 s@filters=255@filters=18@' cfg/yolov4_training.cfg"
      ],
      "metadata": {
        "id": "RpJOh-ruhcs3"
      },
      "execution_count": null,
      "outputs": []
    },
    {
      "cell_type": "code",
      "source": [
        "#Defines the number of classes and their name\n",
        "!echo -e 'Acidente' > data/obj.names\n",
        "!echo -e 'classes= 1\\ntrain  = data/train.txt\\nvalid  = data/test.txt\\nnames = data/obj.names\\nbackup = /mydrive/yolov4' > data/obj.data"
      ],
      "metadata": {
        "id": "xJFp_oEjnYAf"
      },
      "execution_count": null,
      "outputs": []
    },
    {
      "cell_type": "code",
      "source": [
        "#Copy files to your drive\n",
        "!cp cfg/yolov4_tiny_training.cfg /mydrive/yolov4/yolov4_tiny_testing.cfg\n",
        "!cp data/obj.names /mydrive/yolov4/classes.txt"
      ],
      "metadata": {
        "id": "1dVSss23neRf"
      },
      "execution_count": null,
      "outputs": []
    },
    {
      "cell_type": "code",
      "source": [
        "#Unzip the folder containing the images and labels\n",
        "!mkdir data/obj\n",
        "!unzip /mydrive/yolov4/images.zip -d data/obj"
      ],
      "metadata": {
        "id": "x97b_Uc9pLpd"
      },
      "execution_count": null,
      "outputs": []
    },
    {
      "cell_type": "code",
      "source": [
        "#Collect only jpg files and save their path\n",
        "import glob\n",
        "images_list = glob.glob(\"data/obj/*.jpg\")\n",
        "with open(\"data/train.txt\", \"w\") as f:\n",
        "    f.write(\"\\n\".join(images_list))"
      ],
      "metadata": {
        "id": "TqpEUXrknxRM"
      },
      "execution_count": null,
      "outputs": []
    },
    {
      "cell_type": "code",
      "source": [
        "#Copy the file responsible for training the model\n",
        "!wget https://github.com/AlexeyAB/darknet/releases/download/darknet_yolo_v4_pre/yolov4-tiny.conv.29"
      ],
      "metadata": {
        "id": "kKZa-cwppD5V"
      },
      "execution_count": null,
      "outputs": []
    },
    {
      "cell_type": "code",
      "source": [
        "#Start training\n",
        "!./darknet detector train data/obj.data cfg/yolov4_tiny_training.cfg yolov4.conv.137 -dont_show\n",
        "# Uncomment below and comment above to re-start your training from last saved weights\n",
        "#!./darknet detector train data/obj.data cfg/yolov4_training.cfg /mydrive/yolov4/yolov4_training_last.weights -dont_show"
      ],
      "metadata": {
        "id": "Dg_oNPapo1mb"
      },
      "execution_count": null,
      "outputs": []
    },
    {
      "cell_type": "code",
      "source": [
        "#Test your model using darknet and saving the output to your drive\n",
        "!./darknet detector demo data/obj.data /mydrive/yolov4/yolov4_tiny_testing.cfg /mydrive/yolov4/yolov4_tiny_training_last.weights -dont_show /mydrive/yolov4/any_file.mp4 -thresh 0.2 -i 0 -out_filename /mydrive/yolov4/final_result.mp4"
      ],
      "metadata": {
        "id": "XbguMyrpsFcX"
      },
      "execution_count": null,
      "outputs": []
    }
  ],
  "metadata": {
    "colab": {
      "collapsed_sections": [],
      "name": "GoogleColab-Yolov4_tiny",
      "provenance": [],
      "toc_visible": true
    },
    "kernelspec": {
      "display_name": "Python 3",
      "name": "python3"
    },
    "accelerator": "GPU",
    "gpuClass": "standard"
  },
  "nbformat": 4,
  "nbformat_minor": 0
}